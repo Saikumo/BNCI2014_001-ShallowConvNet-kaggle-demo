{
 "cells": [
  {
   "cell_type": "code",
   "execution_count": null,
   "id": "initial_id",
   "metadata": {
    "collapsed": true
   },
   "outputs": [],
   "source": "import moabb"
  },
  {
   "metadata": {},
   "cell_type": "code",
   "outputs": [],
   "execution_count": null,
   "source": [
    "results = moabb.benchmark(\n",
    "    pipelines=\"Keras_ShallowConvNet.yml\",\n",
    "    evaluations=[\"WithinSession\"],\n",
    "    paradigms=[\"LeftRightImagery\"],\n",
    "    include_datasets=[\"BNCI2014_001\"],\n",
    "    results=\"./results/\",\n",
    "    overwrite=False,\n",
    "    plot=False,\n",
    "    output=\"./benchmark/\",\n",
    ")\n"
   ],
   "id": "deb77103707ab374"
  }
 ],
 "metadata": {
  "kernelspec": {
   "display_name": "Python 3",
   "language": "python",
   "name": "python3"
  },
  "language_info": {
   "codemirror_mode": {
    "name": "ipython",
    "version": 2
   },
   "file_extension": ".py",
   "mimetype": "text/x-python",
   "name": "python",
   "nbconvert_exporter": "python",
   "pygments_lexer": "ipython2",
   "version": "2.7.6"
  }
 },
 "nbformat": 4,
 "nbformat_minor": 5
}
